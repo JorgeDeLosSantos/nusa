{
 "cells": [
  {
   "cell_type": "markdown",
   "metadata": {},
   "source": [
    "# An Introduction to NuSA\n",
    "\n",
    "**NuSA** is a Python library for solving two-dimensional structural analysis problems. The idea is to have a code structure written using object-oriented programming, making it possible to create instances of a finite element model and operate on it through methods.\n",
    "\n",
    "## The Structure of NuSA\n",
    "\n",
    "The structure of **NuSA** is based on three fundamental classes that make up the *core*: `Model`, `Element`, `Node`.\n",
    "\n",
    "![](src/intro-nusa/nusa_structure.png)\n"
   ]
  },
  {
   "cell_type": "code",
   "execution_count": null,
   "metadata": {},
   "outputs": [],
   "source": []
  }
 ],
 "metadata": {
  "kernelspec": {
   "display_name": "Python [conda env:base] *",
   "language": "python",
   "name": "conda-base-py"
  },
  "language_info": {
   "codemirror_mode": {
    "name": "ipython",
    "version": 3
   },
   "file_extension": ".py",
   "mimetype": "text/x-python",
   "name": "python",
   "nbconvert_exporter": "python",
   "pygments_lexer": "ipython3",
   "version": "3.12.7"
  }
 },
 "nbformat": 4,
 "nbformat_minor": 4
}
