{
 "cells": [
  {
   "cell_type": "markdown",
   "metadata": {},
   "source": [
    "# Elemento `Bar`"
   ]
  },
  {
   "cell_type": "markdown",
   "metadata": {},
   "source": [
    "## Ejemplo 1\n",
    "\n",
    "<img src=\"src/bar-element/bar_01.png\" width=\"400px\">"
   ]
  },
  {
   "cell_type": "code",
   "execution_count": 3,
   "metadata": {},
   "outputs": [
    {
     "name": "stdout",
     "output_type": "stream",
     "text": [
      "RA = -62808.87926367081 N\n",
      "RE = -37191.12073632918 N\n",
      "Desplazamiento en C = 4.6324687280023236e-05 m\n"
     ]
    }
   ],
   "source": [
    "\"\"\"\n",
    "2.41 (Beer)\n",
    "\"\"\"\n",
    "\n",
    "from nusa import *\n",
    "from math import pi\n",
    "\n",
    "# Input data \n",
    "Es = 200e9\n",
    "As = (pi/4.)*(40e-3)**2\n",
    "Eb = 105e9\n",
    "Ab = (pi/4.)*(30e-3)**2\n",
    "Ps = 60e3\n",
    "Pb = 40e3\n",
    "\n",
    "# Model\n",
    "m1 = BarModel(\"Bar Model\")\n",
    "# Nodes\n",
    "n1 = Node((0,0))\n",
    "n2 = Node((0.180,0))\n",
    "n3 = Node((0.180+0.120,0))\n",
    "n4 = Node((0.180+0.120+0.100,0))\n",
    "n5 = Node((0.180+0.120+0.200,0))\n",
    "# Elements\n",
    "e1 = Bar((n1,n2),Es,As)\n",
    "e2 = Bar((n2,n3),Es,As)\n",
    "e3 = Bar((n3,n4),Eb,Ab)\n",
    "e4 = Bar((n4,n5),Eb,Ab)\n",
    "\n",
    "# Add elements \n",
    "for nd in (n1,n2,n3,n4,n5):\n",
    "    m1.add_node(nd)\n",
    "for el in (e1,e2,e3,e4):\n",
    "    m1.add_element(el)\n",
    "\n",
    "m1.add_constraint(n1,ux=0) # fixed \n",
    "m1.add_constraint(n5,ux=0) # fixed\n",
    "m1.add_force(n2,(Ps,))\n",
    "m1.add_force(n4,(Pb,))\n",
    "\n",
    "m1.solve() # Solve model\n",
    "\n",
    "# Reacciones en A y E\n",
    "print(\"RA = {0} N\".format(n1.fx))\n",
    "print(\"RE = {0} N\".format(n5.fx))\n",
    "\n",
    "# Deflexión en C\n",
    "print(\"Desplazamiento en C = {0} m\".format(n3.ux))"
   ]
  },
  {
   "cell_type": "markdown",
   "metadata": {},
   "source": [
    "## Ejemplo 2"
   ]
  },
  {
   "cell_type": "code",
   "execution_count": 5,
   "metadata": {},
   "outputs": [
    {
     "data": {
      "text/plain": [
       "Model: Bar Model\n",
       "Nodes: 5\n",
       "Elements: 4"
      ]
     },
     "execution_count": 5,
     "metadata": {},
     "output_type": "execute_result"
    }
   ],
   "source": [
    "m1"
   ]
  },
  {
   "cell_type": "code",
   "execution_count": 6,
   "metadata": {},
   "outputs": [],
   "source": [
    "import numpy as np"
   ]
  },
  {
   "cell_type": "code",
   "execution_count": 7,
   "metadata": {},
   "outputs": [],
   "source": [
    "a = np.array([1,2,3])"
   ]
  },
  {
   "cell_type": "code",
   "execution_count": 33,
   "metadata": {},
   "outputs": [
    {
     "name": "stdout",
     "output_type": "stream",
     "text": [
      "[[ 3.49065850e+09 -2.09439510e+09  0.00000000e+00]\n",
      " [-2.09439510e+09  2.83659637e+09 -7.42201264e+08]\n",
      " [ 0.00000000e+00 -7.42201264e+08  1.48440253e+09]]\n"
     ]
    }
   ],
   "source": []
  },
  {
   "cell_type": "code",
   "execution_count": null,
   "metadata": {},
   "outputs": [],
   "source": []
  }
 ],
 "metadata": {
  "kernelspec": {
   "display_name": "Python [conda env:base] *",
   "language": "python",
   "name": "conda-base-py"
  },
  "language_info": {
   "codemirror_mode": {
    "name": "ipython",
    "version": 3
   },
   "file_extension": ".py",
   "mimetype": "text/x-python",
   "name": "python",
   "nbconvert_exporter": "python",
   "pygments_lexer": "ipython3",
   "version": "3.12.7"
  }
 },
 "nbformat": 4,
 "nbformat_minor": 4
}
