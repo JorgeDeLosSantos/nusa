{
 "cells": [
  {
   "cell_type": "code",
   "execution_count": 7,
   "metadata": {},
   "outputs": [
    {
     "data": {
      "image/png": "[encoded data removed]",
      "text/plain": [
       "<Figure size 432x288 with 1 Axes>"
      ]
     },
     "metadata": {},
     "output_type": "display_data"
    }
   ],
   "source": [
    "%matplotlib inline\n",
    "from nusa import *\n",
    "import nusa.mesh as nmsh\n",
    "\n",
    "md = nmsh.Modeler()\n",
    "BB, ES = 1, 1/3\n",
    "a = md.add_rectangle((0,0),(BB,BB), esize=ES)\n",
    "nc, ec = md.generate_mesh()\n",
    "x,y = nc[:,0], nc[:,1]\n",
    "\n",
    "nodos = []\n",
    "elementos = []\n",
    "\n",
    "for k,nd in enumerate(nc):\n",
    "    cn = Node((x[k],y[k]))\n",
    "    nodos.append(cn)\n",
    "    \n",
    "for k,elm in enumerate(ec):\n",
    "    i,j,m = int(elm[0]),int(elm[1]),int(elm[2])\n",
    "    ni,nj,nm = nodos[i],nodos[j],nodos[m]\n",
    "    ce = LinearTriangle((ni,nj,nm),200e9,0.3,0.25)\n",
    "    elementos.append(ce)\n",
    "\n",
    "m = LinearTriangleModel()\n",
    "for node in nodos: m.add_node(node)\n",
    "for elm in elementos: m.add_element(elm)\n",
    "    \n",
    "# Aplicando condiciones de frontera en los extremos\n",
    "minx, maxx = min(x), max(x)\n",
    "miny, maxy = min(y), max(y)\n",
    "\n",
    "P = 100e3/((BB/ES)+1)\n",
    "\n",
    "for node in nodos:\n",
    "    if node.x == minx:\n",
    "        m.add_constraint(node, ux=0, uy=0)\n",
    "    if node.x == maxx:\n",
    "        m.add_force(node, (P,0))\n",
    "\n",
    "m.plot_model()\n",
    "m.solve()"
   ]
  },
  {
   "cell_type": "code",
   "execution_count": 8,
   "metadata": {},
   "outputs": [
    {
     "data": {
      "text/plain": [
       "21"
      ]
     },
     "execution_count": 8,
     "metadata": {},
     "output_type": "execute_result"
    }
   ],
   "source": [
    "len(nodos)"
   ]
  },
  {
   "cell_type": "code",
   "execution_count": 9,
   "metadata": {},
   "outputs": [
    {
     "data": {
      "text/plain": [
       "array([[ 3, 13,  9],\n",
       "       [ 0, 14, 11],\n",
       "       [ 3, 10, 13],\n",
       "       [ 0,  4, 14],\n",
       "       [ 2,  8, 15],\n",
       "       [ 2, 15,  7],\n",
       "       [ 1,  6, 16],\n",
       "       [ 1, 16,  5],\n",
       "       [12, 14, 17],\n",
       "       [12, 13, 18],\n",
       "       [12, 18, 14],\n",
       "       [12, 20, 13],\n",
       "       [12, 17, 16],\n",
       "       [12, 19, 15],\n",
       "       [12, 16, 19],\n",
       "       [12, 15, 20],\n",
       "       [ 4,  5, 17],\n",
       "       [ 6,  7, 19],\n",
       "       [10, 11, 18],\n",
       "       [ 8,  9, 20],\n",
       "       [10, 18, 13],\n",
       "       [ 8, 20, 15],\n",
       "       [ 4, 17, 14],\n",
       "       [ 6, 19, 16],\n",
       "       [11, 14, 18],\n",
       "       [ 9, 13, 20],\n",
       "       [ 5, 16, 17],\n",
       "       [ 7, 15, 19]])"
      ]
     },
     "execution_count": 9,
     "metadata": {},
     "output_type": "execute_result"
    }
   ],
   "source": [
    "ec"
   ]
  },
  {
   "cell_type": "code",
   "execution_count": null,
   "metadata": {},
   "outputs": [],
   "source": []
  },
  {
   "cell_type": "code",
   "execution_count": null,
   "metadata": {},
   "outputs": [],
   "source": []
  }
 ],
 "metadata": {
  "kernelspec": {
   "display_name": "Python 3",
   "language": "python",
   "name": "python3"
  },
  "language_info": {
   "codemirror_mode": {
    "name": "ipython",
    "version": 3
   },
   "file_extension": ".py",
   "mimetype": "text/x-python",
   "name": "python",
   "nbconvert_exporter": "python",
   "pygments_lexer": "ipython3",
   "version": "3.6.5"
  }
 },
 "nbformat": 4,
 "nbformat_minor": 2
}
