{
 "cells": [
  {
   "cell_type": "markdown",
   "metadata": {},
   "source": [
    "# `Bar` element"
   ]
  },
  {
   "attachments": {},
   "cell_type": "markdown",
   "metadata": {},
   "source": [
    "## Example 1\n",
    "\n",
    "Two cylindrical rods, $AC$ made of aluminum and $CD$ made of steel, are joined at $C$ and restrained by rigid supports at $A$ and $D$. For the loading shown and knowing that $E_a = 10.4 \\times 10^6 \\text{ psi}$ and $E_s = 29 \\times 10^6 \\text{ psi}$, determine (a) the reactions at $A$ and $D$, (b) the deflection of point $C$.\n",
    "\n",
    "<img src=\"src/bar-element/bar_01.png\" width=\"400px\">"
   ]
  },
  {
   "cell_type": "code",
   "execution_count": 18,
   "metadata": {},
   "outputs": [
    {
     "name": "stdout",
     "output_type": "stream",
     "text": [
      "RA = -11917.675544794189 lb\n",
      "RD = -20082.32445520581 lb\n",
      "Deflection of point C = 0.0033390226839022335 in\n"
     ]
    }
   ],
   "source": [
    "\"\"\"\n",
    "Problem 2.39 \n",
    "Beer, F. P., Johnston, E. R., DeWolf, J. T., & Mazurek, D. F. (2020). \n",
    "Mechanics of materials (Eighth edition). McGraw-Hill Education.\n",
    "\"\"\"\n",
    "from nusa import *\n",
    "from math import pi\n",
    "\n",
    "# Input data \n",
    "Aa = (pi/4)*(1+1/8)**2 # \n",
    "Ea = 10.4e6 \n",
    "As = (pi/4)*(1+5/8)**2\n",
    "Es = 29e6\n",
    "PB = 18e3\n",
    "PC = 14e3\n",
    "\n",
    "# Model\n",
    "m1 = BarModel(\"Bar Model\")\n",
    "# Nodes\n",
    "n1 = Node((0,0))\n",
    "n2 = Node((8,0))\n",
    "n3 = Node((18,0))\n",
    "n4 = Node((28,0))\n",
    "# Elements\n",
    "e1 = Bar((n1,n2),Ea,Aa)\n",
    "e2 = Bar((n2,n3),Ea,Aa)\n",
    "e3 = Bar((n3,n4),Es,As)\n",
    "\n",
    "# Add elements \n",
    "for nd in (n1,n2,n3,n4):\n",
    "    m1.add_node(nd)\n",
    "for el in (e1,e2,e3):\n",
    "    m1.add_element(el)\n",
    "\n",
    "m1.add_constraint(n1,ux=0) # fixed \n",
    "m1.add_constraint(n4,ux=0) # fixed\n",
    "m1.add_force(n2,(PB,))\n",
    "m1.add_force(n3,(PC,))\n",
    "\n",
    "m1.solve() # Solve model\n",
    "\n",
    "# Reaction-forces at A and D\n",
    "print(\"RA = {0} lb\".format(n1.fx))\n",
    "print(\"RD = {0} lb\".format(n4.fx))\n",
    "\n",
    "# Deflection of point C\n",
    "print(\"Deflection of point C = {0} in\".format(n3.ux))"
   ]
  },
  {
   "cell_type": "code",
   "execution_count": null,
   "metadata": {},
   "outputs": [],
   "source": []
  }
 ],
 "metadata": {
  "kernelspec": {
   "display_name": "Python [conda env:base] *",
   "language": "python",
   "name": "conda-base-py"
  },
  "language_info": {
   "codemirror_mode": {
    "name": "ipython",
    "version": 3
   },
   "file_extension": ".py",
   "mimetype": "text/x-python",
   "name": "python",
   "nbconvert_exporter": "python",
   "pygments_lexer": "ipython3",
   "version": "3.12.7"
  }
 },
 "nbformat": 4,
 "nbformat_minor": 4
}
